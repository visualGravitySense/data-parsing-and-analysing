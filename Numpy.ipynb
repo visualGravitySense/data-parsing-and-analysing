{
 "cells": [
  {
   "cell_type": "code",
   "execution_count": 4,
   "metadata": {},
   "outputs": [
    {
     "data": {
      "image/png": "[encoded data removed]",
      "text/plain": [
       "<Figure size 432x288 with 1 Axes>"
      ]
     },
     "metadata": {
      "needs_background": "light"
     },
     "output_type": "display_data"
    }
   ],
   "source": [
    "import numpy as np\n",
    "import matplotlib.pyplot as plt\n",
    "data = np.loadtxt(\"http://digo.ee/01.mnist.txt\", delimiter=\",\", skiprows=1, max_rows=1)\n",
    "data = np.reshape(data, (28, 28))\n",
    "plt.imshow(data, cmap='Greys')\n",
    "plt.show()"
   ]
  },
  {
   "cell_type": "code",
   "execution_count": 8,
   "metadata": {},
   "outputs": [
    {
     "name": "stdout",
     "output_type": "stream",
     "text": [
      "[['Российская Федерация' 14.44]\n",
      " ['БЕЛГОРОДСКАЯ ОБЛ.' 9.83]\n",
      " ['БРЯНСКАЯ ОБЛ.' 12.46]\n",
      " ['ВЛАДИМИРСКАЯ ОБЛ.' 12.38]\n",
      " ['ВОРОНЕЖСКАЯ  ОБЛ.' 16.19]\n",
      " ['ИВАНОВСКАЯ ОБЛ.' 10.5]\n",
      " ['КАЛУЖСКАЯ ОБЛ.' 15.92]\n",
      " ['КОСТРОМСКАЯ ОБЛ.' 16.38]\n",
      " ['КУРСКАЯ ОБЛ.' 10.48]\n",
      " ['ЛИПЕЦКАЯ ОБЛ.' 12.09]\n",
      " ['МОСКОВСКАЯ ОБЛ.' 7.92]\n",
      " ['ОРЛОВСКАЯ ОБЛ.' 11.76]\n",
      " ['РЯЗАНСКАЯ ОБЛ.' 10.58]\n",
      " ['СМОЛЕНСКАЯ ОБЛ.' 13.48]\n",
      " ['ТАМБОВСКАЯ ОБЛ.' 12.36]\n",
      " ['ТВЕРСКАЯ ОБЛ.' 10.45]\n",
      " ['ТУЛЬСКАЯ ОБЛ.' 15.86]\n",
      " ['ЯРОСЛАВСКАЯ ОБЛ.' 18.48]\n",
      " ['г.МОСКВА' 24.59]\n",
      " ['Центральный фед.округ' 15.76]\n",
      " ['РЕСП. КАРЕЛИЯ' 23.88]\n",
      " ['РЕСП. КОМИ' 16.5]\n",
      " ['АРХАНГЕЛЬСКАЯ ОБЛ.' 15.57]\n",
      " ['ВОЛОГОДСКАЯ ОБЛ.' 16.18]\n",
      " ['КАЛИНИНГРАДСКАЯ ОБЛ.' 20.2]\n",
      " ['ЛЕНИНГРАДСКАЯ ОБЛ.' 8.7]\n",
      " ['МУРМАНСКАЯ ОБЛ.' 17.15]\n",
      " ['НОВГОРОДСКАЯ ОБЛ.' 14.8]\n",
      " ['ПСКОВСКАЯ ОБЛ.' 7.57]\n",
      " ['г.САНКТ-ПЕТЕРБУРГ' 21.94]\n",
      " ['Северо-Западный фед.округ' 17.52]\n",
      " ['РЕСП. АДЫГЕЯ' 4.87]\n",
      " ['РЕСП. КАЛМЫКИЯ' 6.15]\n",
      " ['КРАСНОДАРСКИЙ КРАЙ' 11.43]\n",
      " ['АСТРАХАНСКАЯ ОБЛ.' 11.35]\n",
      " ['ВОЛГОГРАДСКАЯ ОБЛ.' 13.93]\n",
      " ['РОСТОВСКАЯ ОБЛ.' 9.89]\n",
      " ['Южный фед.округ' 11.1]\n",
      " ['РЕСП. ДАГЕСТАН' 0.86]\n",
      " ['РЕСП.ИНГУШСКАЯ' 0.63]\n",
      " ['КАБАРД.-БАЛКАР. РЕСП.' 6.79]\n",
      " ['КАРАЧ.-ЧЕРКЕСС. РЕСП.' 5.61]\n",
      " ['РЕСП.СЕВЕРНАЯ-ОСЕТИЯ' 6.86]\n",
      " ['ЧЕЧЕНСКАЯ РЕСП.' 0.12]\n",
      " ['СТАВРОПОЛЬСКИЙ КРАЙ' 8.98]\n",
      " ['Северо-Кавказский фед.округ' 4.33]\n",
      " ['РЕСП.БАШКОРТОСТАН' 16.1]\n",
      " ['РЕСП. МАРИЙ-ЭЛ' 13.92]\n",
      " ['РЕСП. МОРДОВИЯ' 12.13]\n",
      " ['РЕСП. ТАТАРСТАН' 21.84]\n",
      " ['УДМУРТСКАЯ РЕСП.' 17.93]\n",
      " ['ЧУВАШСКАЯ РЕСП.' 8.72]\n",
      " ['КИРОВСКАЯ ОБЛ.' 16.73]\n",
      " ['НИЖЕГОРОДСКАЯ ОБЛ.' 18.19]\n",
      " ['ОРЕНБУРГСКАЯ ОБЛ.' 14.78]\n",
      " ['ПЕНЗЕНСКАЯ ОБЛ.' 11.46]\n",
      " ['ПЕРМСКИЙ КРАЙ' 10.37]\n",
      " ['САМАРСКАЯ ОБЛ.' 18.41]\n",
      " ['САРАТОВСКАЯ ОБЛ.' 15.43]\n",
      " ['УЛЬЯНОВСКАЯ ОБЛ.' 16.58]\n",
      " ['Приволжский фед.округ' 16.12]\n",
      " ['КУРГАНСКАЯ ОБЛ.' 13.4]\n",
      " ['СВЕРДЛОВСКАЯ ОБЛ.' 16.75]\n",
      " ['ТЮМЕНСКАЯ ОБЛ.' 20.52]\n",
      " ['ХАНТЫ-МАНСИЙСКИЙ АО' 16.62]\n",
      " ['ЯМАЛО-НЕНЕЦКИЙ АО' 15.33]\n",
      " ['ЧЕЛЯБИНСКАЯ ОБЛ.' 16.87]\n",
      " ['Уральский фед.округ' 16.89]\n",
      " ['РЕСП. АЛТАЙ' 4.12]\n",
      " ['РЕСП. БУРЯТИЯ' 5.45]\n",
      " ['РЕСП. ТЫВА' 1.39]\n",
      " ['РЕСП. ХАКАСИЯ' 8.22]\n",
      " ['АЛТАЙСКИЙ КРАЙ' 12.23]\n",
      " ['КРАСНОЯРСКИЙ КРАЙ' 13.6]\n",
      " ['ИРКУТСКАЯ ОБЛ.' 11.46]\n",
      " ['КЕМЕРОВСКАЯ ОБЛ.' 12.65]\n",
      " ['НОВОСИБИРСКАЯ ОБЛ.' 25.94]\n",
      " ['ОМСКАЯ ОБЛ.' 13.97]\n",
      " ['ТОМСКАЯ ОБЛ.' 11.68]\n",
      " ['ЗАБАЙКАЛЬСКИЙ КРАЙ' 5.03]\n",
      " ['Сибирский фед.округ' 13.35]\n",
      " ['РЕСП. САХА (ЯКУТИЯ)' 9.55]\n",
      " ['ПРИМОРСКИЙ КРАЙ' 15.86]\n",
      " ['ХАБАРОВСКИЙ КРАЙ' 14.85]\n",
      " ['АМУРСКАЯ ОБЛ.' 7.52]\n",
      " ['КАМЧАТСКИЙ КРАЙ' 11.29]\n",
      " ['МАГАДАНСКАЯ ОБЛ.' 16.65]\n",
      " ['САХАЛИНСКАЯ ОБЛ.' 13.01]\n",
      " ['ЕВРЕЙСКАЯ А.О.' 13.29]\n",
      " ['ЧУКОТСКИЙ А.О.' 9.48]\n",
      " ['Дальневосточный фед.округ' 13.03]\n",
      " ['РЕСПУБЛИКА КРЫМ' 0.0]]\n"
     ]
    }
   ],
   "source": [
    "import pandas as pd\n",
    "data = pd.read_csv(\"http://digo.ee/internet-2017.csv\", na_values=\"NA\", decimal=\",\")\n",
    "#print (data.head())\n",
    "data.fillna(0, axis=1, inplace=True)\n",
    "data_array = data.values\n",
    "print (data_array)"
   ]
  },
  {
   "cell_type": "code",
   "execution_count": 16,
   "metadata": {},
   "outputs": [
    {
     "name": "stdout",
     "output_type": "stream",
     "text": [
      "DOM time      4026.705882\n",
      "Load time    11352.862745\n",
      "dtype: float64\n"
     ]
    }
   ],
   "source": [
    "import pandas as pd\n",
    "'''\n",
    "data = pd.ExcelFile(\"http://digo.ee/website.load.timings.xlsx.xls\")\n",
    "data = data.parse(sheet_name=0)\n",
    "print (data.head())\n",
    "'''\n",
    "data = pd.ExcelFile(\"http://digo.ee/website.load.timings.xlsx.xls\").parse(sheet_name=0, names=[\"Date\", \"DOM time\", \"Load time\", \"Calls\"], converters={\"Date\": pd.to_datetime, \"DOM time\": int, \"Load time\": int})\n",
    "print (data.mean())\n"
   ]
  },
  {
   "cell_type": "code",
   "execution_count": 102,
   "metadata": {},
   "outputs": [
    {
     "name": "stdout",
     "output_type": "stream",
     "text": [
      "ID            3.140000e+02\n",
      "Year          2.016895e+03\n",
      "global_id     4.944091e+08\n",
      "Calls         4.931866e+02\n",
      "Unnamed: 6             NaN\n",
      "dtype: float64\n"
     ]
    }
   ],
   "source": [
    "import pandas as pd\n",
    "data = pd.read_csv(\"http://digo.ee/data.csv\", delimiter=\";\")\n",
    "data_array = data.values\n",
    "print(data.mean())"
   ]
  },
  {
   "cell_type": "code",
   "execution_count": null,
   "metadata": {},
   "outputs": [],
   "source": []
  }
 ],
 "metadata": {
  "kernelspec": {
   "display_name": "Python 3",
   "language": "python",
   "name": "python3"
  },
  "language_info": {
   "codemirror_mode": {
    "name": "ipython",
    "version": 3
   },
   "file_extension": ".py",
   "mimetype": "text/x-python",
   "name": "python",
   "nbconvert_exporter": "python",
   "pygments_lexer": "ipython3",
   "version": "3.8.2"
  }
 },
 "nbformat": 4,
 "nbformat_minor": 2
}
