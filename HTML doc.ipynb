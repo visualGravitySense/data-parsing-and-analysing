{
 "cells": [
  {
   "cell_type": "code",
   "execution_count": 5,
   "metadata": {},
   "outputs": [
    {
     "data": {
      "text/html": [
       "<html>\n",
       "    <head>\n",
       "        <title>Doc Header</title>\n",
       "    </head>\n",
       "    <body>\n",
       "        <h1 style=\"background:#555;padding:10px;color:#fff\">\n",
       "            Заголовок текста\n",
       "        </h1>\n",
       "        <p>Proj Description\n",
       "            <a href=\"http://digo.ee/\">web link</a>\n",
       "        </p>\n",
       "        <p>\n",
       "            <img src=\"libraries.png\" alt=\"Mos Libr\"/>\n",
       "        </p>\n",
       "        <h2>Tab chart</h2>\n",
       "        <table>\n",
       "            <thead>\n",
       "                <tr>\n",
       "                    <th>Tab head</th><th></th>\n",
       "                </tr>\n",
       "            </thead>\n",
       "            <tbody>\n",
       "                <tr>\n",
       "                    <td>Tab cel</td><td>Data</td>\n",
       "                </tr>\n",
       "            </tbody>\n",
       "        </table>\n",
       "    </body>\n",
       "</html>"
      ],
      "text/plain": [
       "<IPython.core.display.HTML object>"
      ]
     },
     "execution_count": 5,
     "metadata": {},
     "output_type": "execute_result"
    }
   ],
   "source": [
    "#срруктура html\n",
    "from IPython.core.display import HTML\n",
    "html = '''<html>\n",
    "    <head>\n",
    "        <title>Doc Header</title>\n",
    "    </head>\n",
    "    <body>\n",
    "        <h1 style=\"background:#555;padding:10px;color:#fff\">\n",
    "            Заголовок текста\n",
    "        </h1>\n",
    "        <p>Proj Description\n",
    "            <a href=\"http://digo.ee/\">web link</a>\n",
    "        </p>\n",
    "        <p>\n",
    "            <img src=\"libraries.png\" alt=\"Mos Libr\"/>\n",
    "        </p>\n",
    "        <h2>Tab chart</h2>\n",
    "        <table>\n",
    "            <thead>\n",
    "                <tr>\n",
    "                    <th>Tab head</th><th></th>\n",
    "                </tr>\n",
    "            </thead>\n",
    "            <tbody>\n",
    "                <tr>\n",
    "                    <td>Tab cel</td><td>Data</td>\n",
    "                </tr>\n",
    "            </tbody>\n",
    "        </table>\n",
    "    </body>\n",
    "</html>'''\n",
    "HTML(html)"
   ]
  },
  {
   "cell_type": "code",
   "execution_count": 17,
   "metadata": {},
   "outputs": [
    {
     "ename": "PermissionError",
     "evalue": "[Errno 13] Permission denied: '/Users/dmitrigornakov/wkhtmltox-0.12.5-1.macos-cocoa.pkg'",
     "output_type": "error",
     "traceback": [
      "\u001b[0;31m----------------------------------------------------------------------\u001b[0m",
      "\u001b[0;31mPermissionError\u001b[0m                      Traceback (most recent call last)",
      "\u001b[0;32m<ipython-input-17-4e188aa89146>\u001b[0m in \u001b[0;36m<module>\u001b[0;34m\u001b[0m\n\u001b[1;32m      2\u001b[0m \u001b[0;32mimport\u001b[0m \u001b[0mpdfkit\u001b[0m\u001b[0;34m\u001b[0m\u001b[0;34m\u001b[0m\u001b[0m\n\u001b[1;32m      3\u001b[0m \u001b[0mconfig\u001b[0m \u001b[0;34m=\u001b[0m \u001b[0mpdfkit\u001b[0m\u001b[0;34m.\u001b[0m\u001b[0mconfiguration\u001b[0m\u001b[0;34m(\u001b[0m\u001b[0mwkhtmltopdf\u001b[0m\u001b[0;34m=\u001b[0m\u001b[0;34m\"/Users/dmitrigornakov/wkhtmltox-0.12.5-1.macos-cocoa.pkg\"\u001b[0m\u001b[0;34m)\u001b[0m\u001b[0;34m\u001b[0m\u001b[0;34m\u001b[0m\u001b[0m\n\u001b[0;32m----> 4\u001b[0;31m pdfkit.from_url(\"https://airee.cloud\",\n\u001b[0m\u001b[1;32m      5\u001b[0m                \"airee.pdf\", configuration=config)\n\u001b[1;32m      6\u001b[0m pdfkit.from_string('''<html>\n",
      "\u001b[0;32m~/Documents/jupyter/venv/lib/python3.8/site-packages/pdfkit/api.py\u001b[0m in \u001b[0;36mfrom_url\u001b[0;34m(url, output_path, options, toc, cover, configuration, cover_first)\u001b[0m\n\u001b[1;32m     24\u001b[0m                configuration=configuration, cover_first=cover_first)\n\u001b[1;32m     25\u001b[0m \u001b[0;34m\u001b[0m\u001b[0m\n\u001b[0;32m---> 26\u001b[0;31m     \u001b[0;32mreturn\u001b[0m \u001b[0mr\u001b[0m\u001b[0;34m.\u001b[0m\u001b[0mto_pdf\u001b[0m\u001b[0;34m(\u001b[0m\u001b[0moutput_path\u001b[0m\u001b[0;34m)\u001b[0m\u001b[0;34m\u001b[0m\u001b[0;34m\u001b[0m\u001b[0m\n\u001b[0m\u001b[1;32m     27\u001b[0m \u001b[0;34m\u001b[0m\u001b[0m\n\u001b[1;32m     28\u001b[0m \u001b[0;34m\u001b[0m\u001b[0m\n",
      "\u001b[0;32m~/Documents/jupyter/venv/lib/python3.8/site-packages/pdfkit/pdfkit.py\u001b[0m in \u001b[0;36mto_pdf\u001b[0;34m(self, path)\u001b[0m\n\u001b[1;32m    126\u001b[0m         \u001b[0margs\u001b[0m \u001b[0;34m=\u001b[0m \u001b[0mself\u001b[0m\u001b[0;34m.\u001b[0m\u001b[0mcommand\u001b[0m\u001b[0;34m(\u001b[0m\u001b[0mpath\u001b[0m\u001b[0;34m)\u001b[0m\u001b[0;34m\u001b[0m\u001b[0;34m\u001b[0m\u001b[0m\n\u001b[1;32m    127\u001b[0m \u001b[0;34m\u001b[0m\u001b[0m\n\u001b[0;32m--> 128\u001b[0;31m         result = subprocess.Popen(args, stdin=subprocess.PIPE, stdout=subprocess.PIPE,\n\u001b[0m\u001b[1;32m    129\u001b[0m                                   stderr=subprocess.PIPE)\n\u001b[1;32m    130\u001b[0m \u001b[0;34m\u001b[0m\u001b[0m\n",
      "\u001b[0;32m/Library/Frameworks/Python.framework/Versions/3.8/lib/python3.8/subprocess.py\u001b[0m in \u001b[0;36m__init__\u001b[0;34m(self, args, bufsize, executable, stdin, stdout, stderr, preexec_fn, close_fds, shell, cwd, env, universal_newlines, startupinfo, creationflags, restore_signals, start_new_session, pass_fds, encoding, errors, text)\u001b[0m\n\u001b[1;32m    852\u001b[0m                             encoding=encoding, errors=errors)\n\u001b[1;32m    853\u001b[0m \u001b[0;34m\u001b[0m\u001b[0m\n\u001b[0;32m--> 854\u001b[0;31m             self._execute_child(args, executable, preexec_fn, close_fds,\n\u001b[0m\u001b[1;32m    855\u001b[0m                                 \u001b[0mpass_fds\u001b[0m\u001b[0;34m,\u001b[0m \u001b[0mcwd\u001b[0m\u001b[0;34m,\u001b[0m \u001b[0menv\u001b[0m\u001b[0;34m,\u001b[0m\u001b[0;34m\u001b[0m\u001b[0;34m\u001b[0m\u001b[0m\n\u001b[1;32m    856\u001b[0m                                 \u001b[0mstartupinfo\u001b[0m\u001b[0;34m,\u001b[0m \u001b[0mcreationflags\u001b[0m\u001b[0;34m,\u001b[0m \u001b[0mshell\u001b[0m\u001b[0;34m,\u001b[0m\u001b[0;34m\u001b[0m\u001b[0;34m\u001b[0m\u001b[0m\n",
      "\u001b[0;32m/Library/Frameworks/Python.framework/Versions/3.8/lib/python3.8/subprocess.py\u001b[0m in \u001b[0;36m_execute_child\u001b[0;34m(self, args, executable, preexec_fn, close_fds, pass_fds, cwd, env, startupinfo, creationflags, shell, p2cread, p2cwrite, c2pread, c2pwrite, errread, errwrite, restore_signals, start_new_session)\u001b[0m\n\u001b[1;32m   1700\u001b[0m                     \u001b[0;32mif\u001b[0m \u001b[0merrno_num\u001b[0m \u001b[0;34m!=\u001b[0m \u001b[0;36m0\u001b[0m\u001b[0;34m:\u001b[0m\u001b[0;34m\u001b[0m\u001b[0;34m\u001b[0m\u001b[0m\n\u001b[1;32m   1701\u001b[0m                         \u001b[0merr_msg\u001b[0m \u001b[0;34m=\u001b[0m \u001b[0mos\u001b[0m\u001b[0;34m.\u001b[0m\u001b[0mstrerror\u001b[0m\u001b[0;34m(\u001b[0m\u001b[0merrno_num\u001b[0m\u001b[0;34m)\u001b[0m\u001b[0;34m\u001b[0m\u001b[0;34m\u001b[0m\u001b[0m\n\u001b[0;32m-> 1702\u001b[0;31m                     \u001b[0;32mraise\u001b[0m \u001b[0mchild_exception_type\u001b[0m\u001b[0;34m(\u001b[0m\u001b[0merrno_num\u001b[0m\u001b[0;34m,\u001b[0m \u001b[0merr_msg\u001b[0m\u001b[0;34m,\u001b[0m \u001b[0merr_filename\u001b[0m\u001b[0;34m)\u001b[0m\u001b[0;34m\u001b[0m\u001b[0;34m\u001b[0m\u001b[0m\n\u001b[0m\u001b[1;32m   1703\u001b[0m                 \u001b[0;32mraise\u001b[0m \u001b[0mchild_exception_type\u001b[0m\u001b[0;34m(\u001b[0m\u001b[0merr_msg\u001b[0m\u001b[0;34m)\u001b[0m\u001b[0;34m\u001b[0m\u001b[0;34m\u001b[0m\u001b[0m\n\u001b[1;32m   1704\u001b[0m \u001b[0;34m\u001b[0m\u001b[0m\n",
      "\u001b[0;31mPermissionError\u001b[0m: [Errno 13] Permission denied: '/Users/dmitrigornakov/wkhtmltox-0.12.5-1.macos-cocoa.pkg'"
     ]
    }
   ],
   "source": [
    "#Оформление отчета в HTML\n",
    "import pdfkit\n",
    "config = pdfkit.configuration(wkhtmltopdf=\"/Users/dmitrigornakov/wkhtmltox-0.12.5-1.macos-cocoa.pkg\")\n",
    "pdfkit.from_url(\"https://airee.cloud\",\n",
    "               \"airee.pdf\", configuration=config)\n",
    "pdfkit.from_string('''<html>\n",
    "<head><title>Отчет</title><meta charset=\"utf-8\"/></head>\n",
    "<body><h1>Пример отчета</h1></body></html>''',\n",
    "                  'out.pdf', configuration=config)"
   ]
  },
  {
   "cell_type": "code",
   "execution_count": 18,
   "metadata": {},
   "outputs": [
    {
     "ename": "OSError",
     "evalue": "No wkhtmltopdf executable found: \"C:/Program Files/wkhtmltopdf/bin/wkhtmltopdf.exe\"\nIf this file exists please check that this process can read it. Otherwise please install wkhtmltopdf - https://github.com/JazzCore/python-pdfkit/wiki/Installing-wkhtmltopdf",
     "output_type": "error",
     "traceback": [
      "\u001b[0;31m----------------------------------------------------------------------\u001b[0m",
      "\u001b[0;31mFileNotFoundError\u001b[0m                    Traceback (most recent call last)",
      "\u001b[0;32m~/Documents/jupyter/venv/lib/python3.8/site-packages/pdfkit/configuration.py\u001b[0m in \u001b[0;36m__init__\u001b[0;34m(self, wkhtmltopdf, meta_tag_prefix)\u001b[0m\n\u001b[1;32m     20\u001b[0m         \u001b[0;32mtry\u001b[0m\u001b[0;34m:\u001b[0m\u001b[0;34m\u001b[0m\u001b[0;34m\u001b[0m\u001b[0m\n\u001b[0;32m---> 21\u001b[0;31m             \u001b[0;32mwith\u001b[0m \u001b[0mopen\u001b[0m\u001b[0;34m(\u001b[0m\u001b[0mself\u001b[0m\u001b[0;34m.\u001b[0m\u001b[0mwkhtmltopdf\u001b[0m\u001b[0;34m)\u001b[0m \u001b[0;32mas\u001b[0m \u001b[0mf\u001b[0m\u001b[0;34m:\u001b[0m\u001b[0;34m\u001b[0m\u001b[0;34m\u001b[0m\u001b[0m\n\u001b[0m\u001b[1;32m     22\u001b[0m                 \u001b[0;32mpass\u001b[0m\u001b[0;34m\u001b[0m\u001b[0;34m\u001b[0m\u001b[0m\n",
      "\u001b[0;31mFileNotFoundError\u001b[0m: [Errno 2] No such file or directory: 'C:/Program Files/wkhtmltopdf/bin/wkhtmltopdf.exe'",
      "\nDuring handling of the above exception, another exception occurred:\n",
      "\u001b[0;31mOSError\u001b[0m                              Traceback (most recent call last)",
      "\u001b[0;32m<ipython-input-18-984ac04ccbc1>\u001b[0m in \u001b[0;36m<module>\u001b[0;34m\u001b[0m\n\u001b[1;32m      1\u001b[0m \u001b[0;31m#Страницы и колонтитулы\u001b[0m\u001b[0;34m\u001b[0m\u001b[0;34m\u001b[0m\u001b[0;34m\u001b[0m\u001b[0m\n\u001b[1;32m      2\u001b[0m \u001b[0;32mimport\u001b[0m \u001b[0mpdfkit\u001b[0m\u001b[0;34m\u001b[0m\u001b[0;34m\u001b[0m\u001b[0m\n\u001b[0;32m----> 3\u001b[0;31m \u001b[0mconfig\u001b[0m \u001b[0;34m=\u001b[0m \u001b[0mpdfkit\u001b[0m\u001b[0;34m.\u001b[0m\u001b[0mconfiguration\u001b[0m\u001b[0;34m(\u001b[0m\u001b[0mwkhtmltopdf\u001b[0m\u001b[0;34m=\u001b[0m\u001b[0;34m\"C:/Program Files/wkhtmltopdf/bin/wkhtmltopdf.exe\"\u001b[0m\u001b[0;34m)\u001b[0m\u001b[0;34m\u001b[0m\u001b[0;34m\u001b[0m\u001b[0m\n\u001b[0m\u001b[1;32m      4\u001b[0m options = {\n\u001b[1;32m      5\u001b[0m     \u001b[0;34m'page-size'\u001b[0m\u001b[0;34m:\u001b[0m \u001b[0;34m'A4'\u001b[0m\u001b[0;34m,\u001b[0m\u001b[0;34m\u001b[0m\u001b[0;34m\u001b[0m\u001b[0m\n",
      "\u001b[0;32m~/Documents/jupyter/venv/lib/python3.8/site-packages/pdfkit/api.py\u001b[0m in \u001b[0;36mconfiguration\u001b[0;34m(**kwargs)\u001b[0m\n\u001b[1;32m     81\u001b[0m     \"\"\"\n\u001b[1;32m     82\u001b[0m \u001b[0;34m\u001b[0m\u001b[0m\n\u001b[0;32m---> 83\u001b[0;31m     \u001b[0;32mreturn\u001b[0m \u001b[0mConfiguration\u001b[0m\u001b[0;34m(\u001b[0m\u001b[0;34m**\u001b[0m\u001b[0mkwargs\u001b[0m\u001b[0;34m)\u001b[0m\u001b[0;34m\u001b[0m\u001b[0;34m\u001b[0m\u001b[0m\n\u001b[0m",
      "\u001b[0;32m~/Documents/jupyter/venv/lib/python3.8/site-packages/pdfkit/configuration.py\u001b[0m in \u001b[0;36m__init__\u001b[0;34m(self, wkhtmltopdf, meta_tag_prefix)\u001b[0m\n\u001b[1;32m     22\u001b[0m                 \u001b[0;32mpass\u001b[0m\u001b[0;34m\u001b[0m\u001b[0;34m\u001b[0m\u001b[0m\n\u001b[1;32m     23\u001b[0m         \u001b[0;32mexcept\u001b[0m \u001b[0mIOError\u001b[0m\u001b[0;34m:\u001b[0m\u001b[0;34m\u001b[0m\u001b[0;34m\u001b[0m\u001b[0m\n\u001b[0;32m---> 24\u001b[0;31m             raise IOError('No wkhtmltopdf executable found: \"%s\"\\n'\n\u001b[0m\u001b[1;32m     25\u001b[0m                           \u001b[0;34m'If this file exists please check that this process can '\u001b[0m\u001b[0;34m\u001b[0m\u001b[0;34m\u001b[0m\u001b[0m\n\u001b[1;32m     26\u001b[0m                           \u001b[0;34m'read it. Otherwise please install wkhtmltopdf - '\u001b[0m\u001b[0;34m\u001b[0m\u001b[0;34m\u001b[0m\u001b[0m\n",
      "\u001b[0;31mOSError\u001b[0m: No wkhtmltopdf executable found: \"C:/Program Files/wkhtmltopdf/bin/wkhtmltopdf.exe\"\nIf this file exists please check that this process can read it. Otherwise please install wkhtmltopdf - https://github.com/JazzCore/python-pdfkit/wiki/Installing-wkhtmltopdf"
     ]
    }
   ],
   "source": [
    "#Страницы и колонтитулы\n",
    "import pdfkit\n",
    "config = pdfkit.configuration(wkhtmltopdf=\"C:/Program Files/wkhtmltopdf/bin/wkhtmltopdf.exe\")\n",
    "options = {\n",
    "    'page-size': 'A4',\n",
    "    'margin-top': '0.5in',\n",
    "    'margin-right': '0.5in',\n",
    "    'margin-left': '0.5in',\n",
    "    'margin-bottom': '0.5in',\n",
    "    'encoding': 'UTF-8',\n",
    "    'footer-html': 'footer.html',\n",
    "    'header-font-name': 'Trebuchet',\n",
    "    'header-right': '[page]',\n",
    "    'page-offset': 1\n",
    "}\n",
    "pdfkit.from_file(\"final.html\", 'final.pdf',\n",
    "                 configuration=config, options=options)"
   ]
  },
  {
   "cell_type": "code",
   "execution_count": 21,
   "metadata": {},
   "outputs": [
    {
     "ename": "OSError",
     "evalue": "No wkhtmltopdf executable found: \"C:/Program Files/wkhtmltopdf/bin/wkhtmltopdf.exe\"\nIf this file exists please check that this process can read it. Otherwise please install wkhtmltopdf - https://github.com/JazzCore/python-pdfkit/wiki/Installing-wkhtmltopdf",
     "output_type": "error",
     "traceback": [
      "\u001b[0;31m----------------------------------------------------------------------\u001b[0m",
      "\u001b[0;31mFileNotFoundError\u001b[0m                    Traceback (most recent call last)",
      "\u001b[0;32m~/Documents/jupyter/venv/lib/python3.8/site-packages/pdfkit/configuration.py\u001b[0m in \u001b[0;36m__init__\u001b[0;34m(self, wkhtmltopdf, meta_tag_prefix)\u001b[0m\n\u001b[1;32m     20\u001b[0m         \u001b[0;32mtry\u001b[0m\u001b[0;34m:\u001b[0m\u001b[0;34m\u001b[0m\u001b[0;34m\u001b[0m\u001b[0m\n\u001b[0;32m---> 21\u001b[0;31m             \u001b[0;32mwith\u001b[0m \u001b[0mopen\u001b[0m\u001b[0;34m(\u001b[0m\u001b[0mself\u001b[0m\u001b[0;34m.\u001b[0m\u001b[0mwkhtmltopdf\u001b[0m\u001b[0;34m)\u001b[0m \u001b[0;32mas\u001b[0m \u001b[0mf\u001b[0m\u001b[0;34m:\u001b[0m\u001b[0;34m\u001b[0m\u001b[0;34m\u001b[0m\u001b[0m\n\u001b[0m\u001b[1;32m     22\u001b[0m                 \u001b[0;32mpass\u001b[0m\u001b[0;34m\u001b[0m\u001b[0;34m\u001b[0m\u001b[0m\n",
      "\u001b[0;31mFileNotFoundError\u001b[0m: [Errno 2] No such file or directory: 'C:/Program Files/wkhtmltopdf/bin/wkhtmltopdf.exe'",
      "\nDuring handling of the above exception, another exception occurred:\n",
      "\u001b[0;31mOSError\u001b[0m                              Traceback (most recent call last)",
      "\u001b[0;32m<ipython-input-21-e94a21f45c6a>\u001b[0m in \u001b[0;36m<module>\u001b[0;34m\u001b[0m\n\u001b[1;32m     30\u001b[0m \u001b[0mhtml\u001b[0m \u001b[0;34m+=\u001b[0m \u001b[0;34m'''</body></html>'''\u001b[0m\u001b[0;34m\u001b[0m\u001b[0;34m\u001b[0m\u001b[0m\n\u001b[1;32m     31\u001b[0m \u001b[0;34m\u001b[0m\u001b[0m\n\u001b[0;32m---> 32\u001b[0;31m config = pdfkit.configuration(\n\u001b[0m\u001b[1;32m     33\u001b[0m     wkhtmltopdf=\"C:/Program Files/wkhtmltopdf/bin/wkhtmltopdf.exe\")\n\u001b[1;32m     34\u001b[0m options = {\n",
      "\u001b[0;32m~/Documents/jupyter/venv/lib/python3.8/site-packages/pdfkit/api.py\u001b[0m in \u001b[0;36mconfiguration\u001b[0;34m(**kwargs)\u001b[0m\n\u001b[1;32m     81\u001b[0m     \"\"\"\n\u001b[1;32m     82\u001b[0m \u001b[0;34m\u001b[0m\u001b[0m\n\u001b[0;32m---> 83\u001b[0;31m     \u001b[0;32mreturn\u001b[0m \u001b[0mConfiguration\u001b[0m\u001b[0;34m(\u001b[0m\u001b[0;34m**\u001b[0m\u001b[0mkwargs\u001b[0m\u001b[0;34m)\u001b[0m\u001b[0;34m\u001b[0m\u001b[0;34m\u001b[0m\u001b[0m\n\u001b[0m",
      "\u001b[0;32m~/Documents/jupyter/venv/lib/python3.8/site-packages/pdfkit/configuration.py\u001b[0m in \u001b[0;36m__init__\u001b[0;34m(self, wkhtmltopdf, meta_tag_prefix)\u001b[0m\n\u001b[1;32m     22\u001b[0m                 \u001b[0;32mpass\u001b[0m\u001b[0;34m\u001b[0m\u001b[0;34m\u001b[0m\u001b[0m\n\u001b[1;32m     23\u001b[0m         \u001b[0;32mexcept\u001b[0m \u001b[0mIOError\u001b[0m\u001b[0;34m:\u001b[0m\u001b[0;34m\u001b[0m\u001b[0;34m\u001b[0m\u001b[0m\n\u001b[0;32m---> 24\u001b[0;31m             raise IOError('No wkhtmltopdf executable found: \"%s\"\\n'\n\u001b[0m\u001b[1;32m     25\u001b[0m                           \u001b[0;34m'If this file exists please check that this process can '\u001b[0m\u001b[0;34m\u001b[0m\u001b[0;34m\u001b[0m\u001b[0m\n\u001b[1;32m     26\u001b[0m                           \u001b[0;34m'read it. Otherwise please install wkhtmltopdf - '\u001b[0m\u001b[0;34m\u001b[0m\u001b[0;34m\u001b[0m\u001b[0m\n",
      "\u001b[0;31mOSError\u001b[0m: No wkhtmltopdf executable found: \"C:/Program Files/wkhtmltopdf/bin/wkhtmltopdf.exe\"\nIf this file exists please check that this process can read it. Otherwise please install wkhtmltopdf - https://github.com/JazzCore/python-pdfkit/wiki/Installing-wkhtmltopdf"
     ]
    }
   ],
   "source": [
    "import pandas as pd\n",
    "import pdfkit\n",
    "\n",
    "home_dir = 'html/'\n",
    "\n",
    "data = pd.read_csv(\n",
    "    'digo.ee/data-102743-2019-11-13.utf.csv', delimiter=';')\n",
    "\n",
    "html = '''<html>\n",
    "<head>\n",
    "    <title>Геральдические символы Москвы</title>\n",
    "    <meta charset=\"utf-8\"/ >\n",
    "</head>\n",
    "<body>'''\n",
    "\n",
    "for i, item in data.iterrows():\n",
    "\n",
    "    if i == 0:\n",
    "        html += '<h1>' + item['Name'] + '</h1>'\n",
    "    else:\n",
    "        html += '<h1 style=\"page-break-before:always\">' + \\\n",
    "            item['Name'] + '</h1>'\n",
    "\n",
    "    html += '''<p>\n",
    "        <img style=\"width:80%; margin-left:10%\" \n",
    "        src=\"https://op.mos.ru/MEDIA/showFile?id=''' + item['Picture'] + '''\"></p>'''\n",
    "    html += '''<p style=\"font-size:150%;\">''' + \\\n",
    "        item['Description'] + '''</p>'''\n",
    "\n",
    "html += '''</body></html>'''\n",
    "\n",
    "config = pdfkit.configuration(\n",
    "    wkhtmltopdf=\"C:/Program Files/wkhtmltopdf/bin/wkhtmltopdf.exe\")\n",
    "options = {\n",
    "    'page-size': 'A4',\n",
    "    'header-right': '[page]'\n",
    "}\n",
    "\n",
    "pdfkit.from_string(html, home_dir + 'pdf/heraldic.pdf',\n",
    "                   configuration=config, options=options)"
   ]
  },
  {
   "cell_type": "code",
   "execution_count": null,
   "metadata": {},
   "outputs": [],
   "source": []
  }
 ],
 "metadata": {
  "kernelspec": {
   "display_name": "Python 3",
   "language": "python",
   "name": "python3"
  },
  "language_info": {
   "codemirror_mode": {
    "name": "ipython",
    "version": 3
   },
   "file_extension": ".py",
   "mimetype": "text/x-python",
   "name": "python",
   "nbconvert_exporter": "python",
   "pygments_lexer": "ipython3",
   "version": "3.8.2"
  }
 },
 "nbformat": 4,
 "nbformat_minor": 2
}
