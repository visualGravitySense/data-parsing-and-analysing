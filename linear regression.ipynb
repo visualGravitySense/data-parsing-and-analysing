{
 "cells": [
  {
   "cell_type": "code",
   "execution_count": 4,
   "metadata": {},
   "outputs": [
    {
     "name": "stdout",
     "output_type": "stream",
     "text": [
      "AdmArea\n",
      "Восточный административный округ                      619\n",
      "Восточный административный округ                      647\n",
      "Западный административный округ                       479\n",
      "Западный административный округ                       546\n",
      "Запдный административный округ                        644\n",
      "Зеленоградский административный округ                 128\n",
      "Зеленоградский административный округ                 161\n",
      "Северно-Западный административный округ               392\n",
      "Северный административный округ                       408\n",
      "Северный административный округ                       435\n",
      "Северо-Востосный административный округ               608\n",
      "Северо-Восточный административный округ               445\n",
      "Северо-Восточный административный округ               460\n",
      "Северо-Закпадный административный округ               415\n",
      "Северо-Западный административный округ                379\n",
      "Северо-Западный административный округ                332\n",
      "Северо-Заподный административный округ                520\n",
      "Троицкий и Новомосковский  административные округа    295\n",
      "Троицкий и Новомосковский административные  округа    252\n",
      "Троицкий и Новомосковский административные округ а    311\n",
      "Троицкий и Новомосковский административные округа     272\n",
      "Троицкий и Новомосковский административные округа     265\n",
      "Троицкий и Новомосковский административный округа     762\n",
      "Троицкий и новомосковский административные округа     534\n",
      "Центральный административный округ                    408\n",
      "Центральный административный округ                    342\n",
      "Юго-Востосный административный округ                  551\n",
      "Юго-Восточнный административный округ                 580\n",
      "Юго-Восточный административный округ                  541\n",
      "Юго-Восточный административный округ                  447\n",
      "Юго-Западный административный округ                   461\n",
      "Юго-Западный административный округ                   514\n",
      "Юго-западный административный округ                   370\n",
      "Юго=Восточный административный округ                  529\n",
      "ЮгоЗападный административный округ                    402\n",
      "Южный административный округ                          549\n",
      "Южный административный округ                          617\n",
      "Name: Calls, dtype: int64\n"
     ]
    }
   ],
   "source": [
    "import pandas as pd\n",
    "data = pd.read_csv(\"http://digo.ee/data.csv\", delimiter = \";\")\n",
    "data_group = data.groupby(\"AdmArea\")\n",
    "data_avg = data_group.mean()[\"Calls\"]\n",
    "print (data_group.first()[\"Calls\"])\n",
    "data[\"AdmArea\"] = data[\"AdmArea\"].astype(\"category\")"
   ]
  },
  {
   "cell_type": "code",
   "execution_count": 7,
   "metadata": {},
   "outputs": [
    {
     "data": {
      "image/png": "[encoded data removed]",
      "text/plain": [
       "<Figure size 432x288 with 1 Axes>"
      ]
     },
     "metadata": {
      "needs_background": "light"
     },
     "output_type": "display_data"
    }
   ],
   "source": [
    "import pandas as pd\n",
    "import matplotlib.pyplot as plt\n",
    "data = pd.read_csv(\"http://digo.ee/data.csv\", delimiter = \";\")\n",
    "data[\"Month\"] = data[\"Month\"].str.upper().str.slice(0,3).astype(\"category\")\n",
    "data_group = data.groupby(\"Month\").mean()\n",
    "data_group = data_group.sort_values('Calls', ascending=True)\n",
    "data_group[\"Calls\"].plot.bar()\n",
    "plt.show()"
   ]
  },
  {
   "cell_type": "code",
   "execution_count": 16,
   "metadata": {},
   "outputs": [
    {
     "data": {
      "image/png": "[encoded data removed]",
      "text/plain": [
       "<Figure size 432x288 with 1 Axes>"
      ]
     },
     "metadata": {
      "needs_background": "light"
     },
     "output_type": "display_data"
    },
    {
     "name": "stdout",
     "output_type": "stream",
     "text": [
      "[[642.28762626]]\n"
     ]
    }
   ],
   "source": [
    "import pandas as pd\n",
    "import numpy as np\n",
    "import matplotlib.pyplot as plt\n",
    "from sklearn.linear_model import LinearRegression\n",
    "data = pd.read_csv(\"http://digo.ee/data.csv\", delimiter = \";\")\n",
    "data_avg = data.groupby(\"Year\").mean()\n",
    "x = np.array(data_avg.index).reshape(len(data_avg.index), 1)\n",
    "y = np.array(data_avg[\"Calls\"]).reshape(len(data_avg.index), 1)\n",
    "model = LinearRegression()\n",
    "model.fit(x, y)\n",
    "plt.scatter(x, y, color = \"orange\")\n",
    "x = np.append(x, [2020]).reshape(len(data_avg.index)+1, 1)\n",
    "plt.plot(x, model.predict(x), color=\"blue\", linewidth=3)\n",
    "plt.show()\n",
    "print (model.predict(np.array(2020).reshape(1, 1)))"
   ]
  },
  {
   "cell_type": "code",
   "execution_count": 22,
   "metadata": {},
   "outputs": [
    {
     "name": "stdout",
     "output_type": "stream",
     "text": [
      "[[1.52]]\n"
     ]
    }
   ],
   "source": [
    "import pandas as pd\n",
    "import numpy as np\n",
    "from sklearn.linear_model import LinearRegression\n",
    "data = pd.read_csv(\"http://digo.ee/data-9753.utf.csv\", delimiter = \";\")\n",
    "data[\"UDP\"] = 100*data[\"UnemployedDisabled\"]/data[\"UnemployedTotal\"]\n",
    "data_group = data.groupby(\"Year\").filter(lambda x: x[\"UDP\"].count() > 5)\n",
    "data_group = data_group.groupby(\"Year\").mean()\n",
    "x = np.array(data_group.index).reshape(len(data_group.index), 1)\n",
    "y = np.array(data_group[\"UDP\"]).reshape(len(data_group.index), 1)\n",
    "model = LinearRegression()\n",
    "model.fit(x, y)\n",
    "print (np.round(model.predict(np.array(2020).reshape(1,1)), 2))"
   ]
  },
  {
   "cell_type": "code",
   "execution_count": null,
   "metadata": {},
   "outputs": [],
   "source": []
  }
 ],
 "metadata": {
  "kernelspec": {
   "display_name": "Python 3",
   "language": "python",
   "name": "python3"
  },
  "language_info": {
   "codemirror_mode": {
    "name": "ipython",
    "version": 3
   },
   "file_extension": ".py",
   "mimetype": "text/x-python",
   "name": "python",
   "nbconvert_exporter": "python",
   "pygments_lexer": "ipython3",
   "version": "3.8.2"
  }
 },
 "nbformat": 4,
 "nbformat_minor": 4
}
