{
 "cells": [
  {
   "cell_type": "code",
   "execution_count": 6,
   "metadata": {},
   "outputs": [
    {
     "name": "stdout",
     "output_type": "stream",
     "text": [
      "                       Регион   2017\n",
      "0        Российская Федерация  14.44\n",
      "1           БЕЛГОРОДСКАЯ ОБЛ.   9.83\n",
      "2               БРЯНСКАЯ ОБЛ.  12.46\n",
      "3           ВЛАДИМИРСКАЯ ОБЛ.  12.38\n",
      "4           ВОРОНЕЖСКАЯ  ОБЛ.  16.19\n",
      "..                        ...    ...\n",
      "87           САХАЛИНСКАЯ ОБЛ.  13.01\n",
      "88             ЕВРЕЙСКАЯ А.О.  13.29\n",
      "89             ЧУКОТСКИЙ А.О.   9.48\n",
      "90  Дальневосточный фед.округ  13.03\n",
      "91            РЕСПУБЛИКА КРЫМ    NaN\n",
      "\n",
      "[92 rows x 2 columns]\n"
     ]
    }
   ],
   "source": [
    "import pandas as pd\n",
    "data = pd.read_csv(\"http://digo.ee/internet-2017.csv\", na_values=\"NA\", decimal=\",\", skiprows=1, names=[\"Регион\", \"2017\"])\n",
    "data_indexed = pd.Series(data[\"2017\"].values, index=data[\"Регион\"].values)\n",
    "print (data)\n",
    "data = data.reset_index()"
   ]
  },
  {
   "cell_type": "code",
   "execution_count": 15,
   "metadata": {},
   "outputs": [
    {
     "name": "stdout",
     "output_type": "stream",
     "text": [
      "                              2017\n",
      "Регион                            \n",
      "Дальневосточный фед.округ    13.03\n",
      "Приволжский фед.округ        16.12\n",
      "Северо-Западный фед.округ    17.52\n",
      "Северо-Кавказский фед.округ   4.33\n",
      "Сибирский фед.округ          13.35\n",
      "Уральский фед.округ          16.89\n",
      "Центральный фед.округ        15.76\n",
      "Южный фед.округ              11.10\n"
     ]
    }
   ],
   "source": [
    "import pandas as pd\n",
    "data = pd.read_csv(\"http://digo.ee/internet-2017.csv\", na_values=\"NA\", decimal=\",\", names=[\"Регион\", \"2017\"], skiprows=1)\n",
    "area_indexes = data[data[\"Регион\"].str.contains(\"округ\")].index\n",
    "data_areas_index = [(lambda n: \"AREA\" if n in area_indexes else \"REGION\")(i) for i in range(0, len(data.index))]\n",
    "data[\"Тип\"] = data_areas_index\n",
    "data = data.set_index([\"Тип\", \"Регион\"])\n",
    "data = data.sort_index()\n",
    "areas = data.loc[\"AREA\"]\n",
    "print (areas)"
   ]
  },
  {
   "cell_type": "code",
   "execution_count": 20,
   "metadata": {},
   "outputs": [
    {
     "name": "stdout",
     "output_type": "stream",
     "text": [
      "                            2017   2018\n",
      "Регион                                 \n",
      "Российская Федерация       14.44  16.53\n",
      "БЕЛГОРОДСКАЯ ОБЛ.           9.83  11.35\n",
      "БРЯНСКАЯ ОБЛ.              12.46  12.72\n",
      "ВЛАДИМИРСКАЯ ОБЛ.          12.38  15.24\n",
      "ВОРОНЕЖСКАЯ  ОБЛ.          16.19  17.45\n",
      "...                          ...    ...\n",
      "САХАЛИНСКАЯ ОБЛ.           13.01  12.69\n",
      "ЕВРЕЙСКАЯ А.О.             13.29  12.72\n",
      "ЧУКОТСКИЙ А.О.              9.48  18.05\n",
      "Дальневосточный фед.округ  13.03  13.47\n",
      "РЕСПУБЛИКА КРЫМ              NaN    NaN\n",
      "\n",
      "[92 rows x 2 columns]\n"
     ]
    }
   ],
   "source": [
    "import pandas as pd\n",
    "data_2017 = pd.read_csv(\"http://digo.ee/internet-2017.csv\", na_values=\"NA\", decimal=\",\", names=[\"Регион\", \"2017\"], skiprows=1, index_col=\"Регион\")\n",
    "data_2018 = pd.read_csv(\"http://digo.ee/internet-2018.csv\", na_values=\"NA\", decimal=\",\", names=[\"Регион\", \"2018\"], skiprows=1, index_col=\"Регион\")\n",
    "data = pd.merge(data_2017, data_2018, left_index=True, right_index=True)\n",
    "print (data)"
   ]
  },
  {
   "cell_type": "code",
   "execution_count": 21,
   "metadata": {},
   "outputs": [
    {
     "data": {
      "image/png": "[encoded data removed]",
      "text/plain": [
       "<Figure size 432x288 with 1 Axes>"
      ]
     },
     "metadata": {
      "needs_background": "light"
     },
     "output_type": "display_data"
    }
   ],
   "source": [
    "%matplotlib inline\n",
    "import pandas as pd\n",
    "import matplotlib.pyplot as plt\n",
    "data_2017 = pd.read_csv(\"http://digo.ee/internet-2017.csv\", na_values=\"NA\", decimal=\",\", names=[\"Регион\", \"2017\"], skiprows=1, index_col=\"Регион\")\n",
    "data_2018 = pd.read_csv(\"http://digo.ee/internet-2018.csv\", na_values=\"NA\", decimal=\",\", names=[\"Регион\", \"2018\"], skiprows=1, index_col=\"Регион\")\n",
    "data = pd.merge(data_2017, data_2018, left_index=True, right_index=True)\n",
    "data.fillna(0, axis=1, inplace=True)\n",
    "data.mean().plot.line()\n",
    "plt.show()"
   ]
  },
  {
   "cell_type": "code",
   "execution_count": null,
   "metadata": {},
   "outputs": [],
   "source": []
  }
 ],
 "metadata": {
  "kernelspec": {
   "display_name": "Python 3",
   "language": "python",
   "name": "python3"
  },
  "language_info": {
   "codemirror_mode": {
    "name": "ipython",
    "version": 3
   },
   "file_extension": ".py",
   "mimetype": "text/x-python",
   "name": "python",
   "nbconvert_exporter": "python",
   "pygments_lexer": "ipython3",
   "version": "3.8.2"
  }
 },
 "nbformat": 4,
 "nbformat_minor": 4
}
