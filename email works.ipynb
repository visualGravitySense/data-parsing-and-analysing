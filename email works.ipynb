{
 "cells": [
  {
   "cell_type": "code",
   "execution_count": 1,
   "metadata": {},
   "outputs": [
    {
     "ename": "NameError",
     "evalue": "name 'user' is not defined",
     "output_type": "error",
     "traceback": [
      "\u001b[0;31m----------------------------------------------------------------------\u001b[0m",
      "\u001b[0;31mNameError\u001b[0m                            Traceback (most recent call last)",
      "\u001b[0;32m<ipython-input-1-53d8b62556fe>\u001b[0m in \u001b[0;36m<module>\u001b[0;34m\u001b[0m\n\u001b[1;32m     13\u001b[0m \u001b[0;31m#password = \"XXXX\"\u001b[0m\u001b[0;34m\u001b[0m\u001b[0;34m\u001b[0m\u001b[0;34m\u001b[0m\u001b[0m\n\u001b[1;32m     14\u001b[0m \u001b[0mserver\u001b[0m \u001b[0;34m=\u001b[0m \u001b[0msmtplib\u001b[0m\u001b[0;34m.\u001b[0m\u001b[0mSMTP_SSL\u001b[0m\u001b[0;34m(\u001b[0m\u001b[0;34m\"smtp.yandex.com\"\u001b[0m\u001b[0;34m,\u001b[0m \u001b[0;36m465\u001b[0m\u001b[0;34m)\u001b[0m\u001b[0;34m\u001b[0m\u001b[0;34m\u001b[0m\u001b[0m\n\u001b[0;32m---> 15\u001b[0;31m \u001b[0mserver\u001b[0m\u001b[0;34m.\u001b[0m\u001b[0mlogin\u001b[0m\u001b[0;34m(\u001b[0m\u001b[0muser\u001b[0m\u001b[0;34m,\u001b[0m \u001b[0mpassword\u001b[0m\u001b[0;34m)\u001b[0m\u001b[0;34m\u001b[0m\u001b[0;34m\u001b[0m\u001b[0m\n\u001b[0m\u001b[1;32m     16\u001b[0m \u001b[0mserver\u001b[0m\u001b[0;34m.\u001b[0m\u001b[0msendmail\u001b[0m\u001b[0;34m(\u001b[0m\u001b[0;34m\"n@ittensive.com\"\u001b[0m\u001b[0;34m,\u001b[0m \u001b[0;34m\"support@ittensive.com\"\u001b[0m\u001b[0;34m,\u001b[0m \u001b[0mBODY\u001b[0m\u001b[0;34m)\u001b[0m\u001b[0;34m\u001b[0m\u001b[0;34m\u001b[0m\u001b[0m\n\u001b[1;32m     17\u001b[0m \u001b[0mserver\u001b[0m\u001b[0;34m.\u001b[0m\u001b[0mquit\u001b[0m\u001b[0;34m(\u001b[0m\u001b[0;34m)\u001b[0m\u001b[0;34m\u001b[0m\u001b[0;34m\u001b[0m\u001b[0m\n",
      "\u001b[0;31mNameError\u001b[0m: name 'user' is not defined"
     ]
    }
   ],
   "source": [
    "#работа с почтой\n",
    "\n",
    "import smtplib\n",
    "BODY = \"\\r\\n\".join((\n",
    "    \"From: Николай\",\n",
    "    \"To: support@ittensive.com\",\n",
    "    \"Subject: Тестовое письмо\",\n",
    "    \"Content-Type: text/plain; charset=utf-8\",\n",
    "    \"\",\n",
    "    \"Привет! Это письмо из Python\"\n",
    ")).encode(\"UTF-8\")\n",
    "#user = \"XXXX\"\n",
    "#password = \"XXXX\"\n",
    "server = smtplib.SMTP_SSL(\"smtp.yandex.com\", 465)\n",
    "server.login(user, password)\n",
    "server.sendmail(\"n@ittensive.com\", \"support@ittensive.com\", BODY)\n",
    "server.quit()"
   ]
  },
  {
   "cell_type": "code",
   "execution_count": 2,
   "metadata": {},
   "outputs": [
    {
     "ename": "FileNotFoundError",
     "evalue": "[Errno 2] No such file or directory: 'parks.html'",
     "output_type": "error",
     "traceback": [
      "\u001b[0;31m----------------------------------------------------------------------\u001b[0m",
      "\u001b[0;31mFileNotFoundError\u001b[0m                    Traceback (most recent call last)",
      "\u001b[0;32m<ipython-input-2-f18d339b2f29>\u001b[0m in \u001b[0;36m<module>\u001b[0;34m\u001b[0m\n\u001b[1;32m      9\u001b[0m \u001b[0mletter\u001b[0m\u001b[0;34m[\u001b[0m\u001b[0;34m\"Content-Type\"\u001b[0m\u001b[0;34m]\u001b[0m \u001b[0;34m=\u001b[0m \u001b[0;34m\"text/html; charset=utf-8\"\u001b[0m\u001b[0;34m\u001b[0m\u001b[0;34m\u001b[0m\u001b[0m\n\u001b[1;32m     10\u001b[0m \u001b[0mletter\u001b[0m\u001b[0;34m[\u001b[0m\u001b[0;34m\"To\"\u001b[0m\u001b[0;34m]\u001b[0m \u001b[0;34m=\u001b[0m \u001b[0;34m\"support@ittensive.com\"\u001b[0m\u001b[0;34m\u001b[0m\u001b[0;34m\u001b[0m\u001b[0m\n\u001b[0;32m---> 11\u001b[0;31m letter.attach(MIMEText(open(\"parks.html\", \"r\",\n\u001b[0m\u001b[1;32m     12\u001b[0m                            encoding=\"UTF-8\").read(), 'html'))\n\u001b[1;32m     13\u001b[0m \u001b[0mattachement\u001b[0m \u001b[0;34m=\u001b[0m \u001b[0mMIMEBase\u001b[0m\u001b[0;34m(\u001b[0m\u001b[0;34m'application'\u001b[0m\u001b[0;34m,\u001b[0m \u001b[0;34m'pdf'\u001b[0m\u001b[0;34m)\u001b[0m\u001b[0;34m\u001b[0m\u001b[0;34m\u001b[0m\u001b[0m\n",
      "\u001b[0;31mFileNotFoundError\u001b[0m: [Errno 2] No such file or directory: 'parks.html'"
     ]
    }
   ],
   "source": [
    "#отправка вложений \n",
    "\n",
    "import smtplib\n",
    "from email import encoders\n",
    "from email.mime.text import MIMEText\n",
    "from email.mime.base import MIMEBase\n",
    "from email.mime.multipart import MIMEMultipart\n",
    "letter = MIMEMultipart()\n",
    "letter[\"From\"] = \"Николай\"\n",
    "letter[\"Subject\"] = \"Активности в парках Москвы\"\n",
    "letter[\"Content-Type\"] = \"text/html; charset=utf-8\"\n",
    "letter[\"To\"] = \"support@ittensive.com\"\n",
    "letter.attach(MIMEText(open(\"parks.html\", \"r\",\n",
    "                           encoding=\"UTF-8\").read(), 'html'))\n",
    "attachement = MIMEBase('application', 'pdf')\n",
    "attachement.set_payload(open('parks.pdf', 'rb').read())            \n",
    "attachement.add_header('Content-Disposition',\n",
    "                      'attachement; filename=\"parks.pdf\"')\n",
    "encoders.encode_base64(attachement)\n",
    "letter.attach(attachement)\n",
    "# user = 'XXXX'\n",
    "# password = \"XXXX\"\n",
    "server = smtplib.SMTP_SSL(\"smtp.yandex.com\", 465)\n",
    "server.login(user, password)\n",
    "server.sendmail(\"n@ittensive.com\",\n",
    "               \"support@ittensive.com\",\n",
    "               letter.as_string())\n",
    "server.quit()"
   ]
  },
  {
   "cell_type": "code",
   "execution_count": null,
   "metadata": {},
   "outputs": [],
   "source": []
  }
 ],
 "metadata": {
  "kernelspec": {
   "display_name": "Python 3",
   "language": "python",
   "name": "python3"
  },
  "language_info": {
   "codemirror_mode": {
    "name": "ipython",
    "version": 3
   },
   "file_extension": ".py",
   "mimetype": "text/x-python",
   "name": "python",
   "nbconvert_exporter": "python",
   "pygments_lexer": "ipython3",
   "version": "3.8.2"
  }
 },
 "nbformat": 4,
 "nbformat_minor": 4
}
