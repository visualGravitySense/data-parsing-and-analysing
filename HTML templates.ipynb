{
 "cells": [
  {
   "cell_type": "code",
   "execution_count": 10,
   "metadata": {},
   "outputs": [
    {
     "ename": "FileNotFoundError",
     "evalue": "[Errno 2] No such file or directory: 'heraldic.item.html'",
     "output_type": "error",
     "traceback": [
      "\u001b[0;31m----------------------------------------------------------------------\u001b[0m",
      "\u001b[0;31mFileNotFoundError\u001b[0m                    Traceback (most recent call last)",
      "\u001b[0;32m<ipython-input-10-46283e0dba8e>\u001b[0m in \u001b[0;36m<module>\u001b[0;34m\u001b[0m\n\u001b[1;32m     11\u001b[0m <body>'''\n\u001b[1;32m     12\u001b[0m \u001b[0;32mfor\u001b[0m \u001b[0mi\u001b[0m\u001b[0;34m,\u001b[0m \u001b[0mitem\u001b[0m \u001b[0;32min\u001b[0m \u001b[0mdata\u001b[0m\u001b[0;34m.\u001b[0m\u001b[0miterrows\u001b[0m\u001b[0;34m(\u001b[0m\u001b[0;34m)\u001b[0m\u001b[0;34m:\u001b[0m\u001b[0;34m\u001b[0m\u001b[0;34m\u001b[0m\u001b[0m\n\u001b[0;32m---> 13\u001b[0;31m     \u001b[0mhtml\u001b[0m \u001b[0;34m+=\u001b[0m \u001b[0mTemplate\u001b[0m\u001b[0;34m(\u001b[0m\u001b[0mopen\u001b[0m\u001b[0;34m(\u001b[0m\u001b[0;34m'heraldic.item.html'\u001b[0m\u001b[0;34m)\u001b[0m\u001b[0;34m.\u001b[0m\u001b[0mread\u001b[0m\u001b[0;34m(\u001b[0m\u001b[0;34m)\u001b[0m\u001b[0;34m)\u001b[0m\u001b[0;34m.\u001b[0m\u001b[0mrender\u001b[0m\u001b[0;34m(\u001b[0m\u001b[0mdata\u001b[0m\u001b[0;34m=\u001b[0m\u001b[0mitem\u001b[0m\u001b[0;34m)\u001b[0m\u001b[0;34m\u001b[0m\u001b[0;34m\u001b[0m\u001b[0m\n\u001b[0m\u001b[1;32m     14\u001b[0m \u001b[0mhtml\u001b[0m \u001b[0;34m+=\u001b[0m \u001b[0;34m'</body></html>'\u001b[0m\u001b[0;34m\u001b[0m\u001b[0;34m\u001b[0m\u001b[0m\n\u001b[1;32m     15\u001b[0m \u001b[0;34m\u001b[0m\u001b[0m\n",
      "\u001b[0;31mFileNotFoundError\u001b[0m: [Errno 2] No such file or directory: 'heraldic.item.html'"
     ]
    }
   ],
   "source": [
    "#HTML Templates JINJA\n",
    "import pandas as pd\n",
    "import pdfkit\n",
    "from jinja2 import Template\n",
    "\n",
    "data = pd.read_csv(\"http://digo.ee/data-102743.utf.csv\", delimiter=\";\")\n",
    "html = '''<html>\n",
    "    <head>\n",
    "        <title>Herald Mos Symbols</title>\n",
    "        <meta charset=\"utf-8\"/>\n",
    "    </head>\n",
    "<body>'''\n",
    "for i, item in data.iterrows():\n",
    "    html += Template(open('heraldic.item.html').read()).render(data=item)\n",
    "html += '</body></html>'\n",
    "\n",
    "config = pdfkit.configuration(wkhtmltopdf='C:/Program FIles/wkhtmltopdf/bin/wkhtmltopdf.exe')\n",
    "options = {\n",
    "    'page-size': 'A4',\n",
    "    'header-right': '[page]'\n",
    "}\n",
    "pdfkit.from_string(html, 'heraldic.pdf',\n",
    "                    configuration=config, options=options)"
   ]
  },
  {
   "cell_type": "code",
   "execution_count": 14,
   "metadata": {},
   "outputs": [
    {
     "ename": "FileNotFoundError",
     "evalue": "[Errno 2] No such file or directory: 'heraldic.html'",
     "output_type": "error",
     "traceback": [
      "\u001b[0;31m----------------------------------------------------------------------\u001b[0m",
      "\u001b[0;31mFileNotFoundError\u001b[0m                    Traceback (most recent call last)",
      "\u001b[0;32m<ipython-input-14-e406668d4a96>\u001b[0m in \u001b[0;36m<module>\u001b[0;34m\u001b[0m\n\u001b[1;32m      4\u001b[0m \u001b[0;34m\u001b[0m\u001b[0m\n\u001b[1;32m      5\u001b[0m \u001b[0mdata\u001b[0m \u001b[0;34m=\u001b[0m \u001b[0mpd\u001b[0m\u001b[0;34m.\u001b[0m\u001b[0mread_csv\u001b[0m\u001b[0;34m(\u001b[0m\u001b[0;34m\"http://digo.ee/data-102743.utf.csv\"\u001b[0m\u001b[0;34m,\u001b[0m \u001b[0mdelimiter\u001b[0m\u001b[0;34m=\u001b[0m\u001b[0;34m\";\"\u001b[0m\u001b[0;34m)\u001b[0m\u001b[0;34m\u001b[0m\u001b[0;34m\u001b[0m\u001b[0m\n\u001b[0;32m----> 6\u001b[0;31m \u001b[0mhtml\u001b[0m \u001b[0;34m=\u001b[0m \u001b[0mTemplate\u001b[0m\u001b[0;34m(\u001b[0m\u001b[0mopen\u001b[0m\u001b[0;34m(\u001b[0m\u001b[0;34m'heraldic.html'\u001b[0m\u001b[0;34m,\u001b[0m \u001b[0mencoding\u001b[0m\u001b[0;34m=\u001b[0m\u001b[0;34m\"utf-8\"\u001b[0m\u001b[0;34m)\u001b[0m\u001b[0;34m.\u001b[0m\u001b[0mread\u001b[0m\u001b[0;34m(\u001b[0m\u001b[0;34m)\u001b[0m\u001b[0;34m)\u001b[0m\u001b[0;34m.\u001b[0m\u001b[0mrender\u001b[0m\u001b[0;34m(\u001b[0m\u001b[0mdata\u001b[0m\u001b[0;34m=\u001b[0m\u001b[0mdata\u001b[0m\u001b[0;34m.\u001b[0m\u001b[0miterrows\u001b[0m\u001b[0;34m(\u001b[0m\u001b[0;34m)\u001b[0m\u001b[0;34m)\u001b[0m\u001b[0;34m\u001b[0m\u001b[0;34m\u001b[0m\u001b[0m\n\u001b[0m\u001b[1;32m      7\u001b[0m \u001b[0mconfig\u001b[0m \u001b[0;34m=\u001b[0m \u001b[0mpdfkit\u001b[0m\u001b[0;34m.\u001b[0m\u001b[0mconfiguration\u001b[0m\u001b[0;34m(\u001b[0m\u001b[0mwkhtmltopdf\u001b[0m\u001b[0;34m=\u001b[0m\u001b[0;34m\"C:/Program Files/wkhtmltopdf/bin/wkhtmltopdf.exe\"\u001b[0m\u001b[0;34m)\u001b[0m\u001b[0;34m\u001b[0m\u001b[0;34m\u001b[0m\u001b[0m\n\u001b[1;32m      8\u001b[0m options = {\n",
      "\u001b[0;31mFileNotFoundError\u001b[0m: [Errno 2] No such file or directory: 'heraldic.html'"
     ]
    }
   ],
   "source": [
    "#Циклы и условия в шаблонах\n",
    "import pandas as pd\n",
    "import pdfkit\n",
    "from jinja2 import Template\n",
    "\n",
    "data = pd.read_csv(\"http://digo.ee/data-102743.utf.csv\", delimiter=\";\")\n",
    "html = Template(open('heraldic.html', encoding=\"utf-8\").read()).render(data=data.iterrows())\n",
    "config = pdfkit.configuration(wkhtmltopdf=\"C:/Program Files/wkhtmltopdf/bin/wkhtmltopdf.exe\")\n",
    "options = {\n",
    "    'page-size': 'A4',\n",
    "    'header-right': '[page]'\n",
    "}\n",
    "pdfkit.from_string(html, 'heraldic.pdf',\n",
    "                   configuration=config, options=options)"
   ]
  },
  {
   "cell_type": "code",
   "execution_count": 13,
   "metadata": {},
   "outputs": [
    {
     "ename": "OSError",
     "evalue": "No wkhtmltopdf executable found: \"C:/Program Files/wkhtmltopdf/bin/wkhtmltopdf.exe\"\nIf this file exists please check that this process can read it. Otherwise please install wkhtmltopdf - https://github.com/JazzCore/python-pdfkit/wiki/Installing-wkhtmltopdf",
     "output_type": "error",
     "traceback": [
      "\u001b[0;31m----------------------------------------------------------------------\u001b[0m",
      "\u001b[0;31mFileNotFoundError\u001b[0m                    Traceback (most recent call last)",
      "\u001b[0;32m~/Documents/jupyter/venv/lib/python3.8/site-packages/pdfkit/configuration.py\u001b[0m in \u001b[0;36m__init__\u001b[0;34m(self, wkhtmltopdf, meta_tag_prefix)\u001b[0m\n\u001b[1;32m     20\u001b[0m         \u001b[0;32mtry\u001b[0m\u001b[0;34m:\u001b[0m\u001b[0;34m\u001b[0m\u001b[0;34m\u001b[0m\u001b[0m\n\u001b[0;32m---> 21\u001b[0;31m             \u001b[0;32mwith\u001b[0m \u001b[0mopen\u001b[0m\u001b[0;34m(\u001b[0m\u001b[0mself\u001b[0m\u001b[0;34m.\u001b[0m\u001b[0mwkhtmltopdf\u001b[0m\u001b[0;34m)\u001b[0m \u001b[0;32mas\u001b[0m \u001b[0mf\u001b[0m\u001b[0;34m:\u001b[0m\u001b[0;34m\u001b[0m\u001b[0;34m\u001b[0m\u001b[0m\n\u001b[0m\u001b[1;32m     22\u001b[0m                 \u001b[0;32mpass\u001b[0m\u001b[0;34m\u001b[0m\u001b[0;34m\u001b[0m\u001b[0m\n",
      "\u001b[0;31mFileNotFoundError\u001b[0m: [Errno 2] No such file or directory: 'C:/Program Files/wkhtmltopdf/bin/wkhtmltopdf.exe'",
      "\nDuring handling of the above exception, another exception occurred:\n",
      "\u001b[0;31mOSError\u001b[0m                              Traceback (most recent call last)",
      "\u001b[0;32m<ipython-input-13-c570e236af79>\u001b[0m in \u001b[0;36m<module>\u001b[0;34m\u001b[0m\n\u001b[1;32m     31\u001b[0m })\n\u001b[1;32m     32\u001b[0m \u001b[0;34m\u001b[0m\u001b[0m\n\u001b[0;32m---> 33\u001b[0;31m \u001b[0mconfig\u001b[0m \u001b[0;34m=\u001b[0m \u001b[0mpdfkit\u001b[0m\u001b[0;34m.\u001b[0m\u001b[0mconfiguration\u001b[0m\u001b[0;34m(\u001b[0m\u001b[0mwkhtmltopdf\u001b[0m\u001b[0;34m=\u001b[0m\u001b[0;34m'C:/Program Files/wkhtmltopdf/bin/wkhtmltopdf.exe'\u001b[0m\u001b[0;34m)\u001b[0m\u001b[0;34m\u001b[0m\u001b[0;34m\u001b[0m\u001b[0m\n\u001b[0m\u001b[1;32m     34\u001b[0m options = {\n\u001b[1;32m     35\u001b[0m     \u001b[0;34m'page-size'\u001b[0m\u001b[0;34m:\u001b[0m \u001b[0;34m'A4'\u001b[0m\u001b[0;34m,\u001b[0m\u001b[0;34m\u001b[0m\u001b[0;34m\u001b[0m\u001b[0m\n",
      "\u001b[0;32m~/Documents/jupyter/venv/lib/python3.8/site-packages/pdfkit/api.py\u001b[0m in \u001b[0;36mconfiguration\u001b[0;34m(**kwargs)\u001b[0m\n\u001b[1;32m     81\u001b[0m     \"\"\"\n\u001b[1;32m     82\u001b[0m \u001b[0;34m\u001b[0m\u001b[0m\n\u001b[0;32m---> 83\u001b[0;31m     \u001b[0;32mreturn\u001b[0m \u001b[0mConfiguration\u001b[0m\u001b[0;34m(\u001b[0m\u001b[0;34m**\u001b[0m\u001b[0mkwargs\u001b[0m\u001b[0;34m)\u001b[0m\u001b[0;34m\u001b[0m\u001b[0;34m\u001b[0m\u001b[0m\n\u001b[0m",
      "\u001b[0;32m~/Documents/jupyter/venv/lib/python3.8/site-packages/pdfkit/configuration.py\u001b[0m in \u001b[0;36m__init__\u001b[0;34m(self, wkhtmltopdf, meta_tag_prefix)\u001b[0m\n\u001b[1;32m     22\u001b[0m                 \u001b[0;32mpass\u001b[0m\u001b[0;34m\u001b[0m\u001b[0;34m\u001b[0m\u001b[0m\n\u001b[1;32m     23\u001b[0m         \u001b[0;32mexcept\u001b[0m \u001b[0mIOError\u001b[0m\u001b[0;34m:\u001b[0m\u001b[0;34m\u001b[0m\u001b[0;34m\u001b[0m\u001b[0m\n\u001b[0;32m---> 24\u001b[0;31m             raise IOError('No wkhtmltopdf executable found: \"%s\"\\n'\n\u001b[0m\u001b[1;32m     25\u001b[0m                           \u001b[0;34m'If this file exists please check that this process can '\u001b[0m\u001b[0;34m\u001b[0m\u001b[0;34m\u001b[0m\u001b[0m\n\u001b[1;32m     26\u001b[0m                           \u001b[0;34m'read it. Otherwise please install wkhtmltopdf - '\u001b[0m\u001b[0;34m\u001b[0m\u001b[0;34m\u001b[0m\u001b[0m\n",
      "\u001b[0;31mOSError\u001b[0m: No wkhtmltopdf executable found: \"C:/Program Files/wkhtmltopdf/bin/wkhtmltopdf.exe\"\nIf this file exists please check that this process can read it. Otherwise please install wkhtmltopdf - https://github.com/JazzCore/python-pdfkit/wiki/Installing-wkhtmltopdf"
     ]
    }
   ],
   "source": [
    "#Вывод таблих и изображений\n",
    "import requests\n",
    "import json\n",
    "import pandas as pd\n",
    "import binascii\n",
    "import pdfkit\n",
    "from jinja2 import Template\n",
    "\n",
    "with open('libraries.png', 'rb') as file:\n",
    "    img = 'data:image/png;base64,' + binascii.b2a_base64(file.read(), newline=False).decode(\"UTF-8\")\n",
    "r = requests.get(\"https://video.ittensive.com/python-advanced/data-7361-2019-11-28.utf.json\")\n",
    "data = pd.DataFrame(json.loads(r.content),\n",
    "                   columns=[\"NumOfVisitors\", \"CommonName\"]).fillna(value=0)\n",
    "data.columns = [\"Посетители\", \"Название\"]\n",
    "data.set_index(\"Название\", inplace=True)\n",
    "html_template = '''<html>\n",
    "<head>\n",
    "    <title>Итоговая таблица по библиотекам</title>\n",
    "    <meta charset=\"utf-8\"/>\n",
    "</head>\n",
    "<body>\n",
    "    <h1>Распределение посетителей</h1>\n",
    "    <img src=\"{{data.image}}\" alt=\"Распределение посетителей\">\n",
    "    <h2>Данные по библиотекам</h2>\n",
    "    {{data.table}}\n",
    "</body>\n",
    "</html>'''\n",
    "\n",
    "html = Template(html_template).render(data = {\n",
    "    'image': img,\n",
    "    'table': data.to_html()\n",
    "})\n",
    "\n",
    "config = pdfkit.configuration(wkhtmltopdf='C:/Program Files/wkhtmltopdf/bin/wkhtmltopdf.exe')\n",
    "options = {\n",
    "    'page-size': 'A4',\n",
    "    'header-right': '[page]'\n",
    "}\n",
    "pdfkit.from_string(html, 'libraries.total.pdf',\n",
    "                  configuration=config, options = options)"
   ]
  },
  {
   "cell_type": "code",
   "execution_count": 15,
   "metadata": {},
   "outputs": [
    {
     "name": "stdout",
     "output_type": "stream",
     "text": [
      "Тайцзицюань 1\n"
     ]
    },
    {
     "ename": "AttributeError",
     "evalue": "module 'pandas' has no attribute 'set_options'",
     "output_type": "error",
     "traceback": [
      "\u001b[0;31m----------------------------------------------------------------------\u001b[0m",
      "\u001b[0;31mAttributeError\u001b[0m                       Traceback (most recent call last)",
      "\u001b[0;32m<ipython-input-15-232fc7a58eec>\u001b[0m in \u001b[0;36m<module>\u001b[0;34m\u001b[0m\n\u001b[1;32m     29\u001b[0m \u001b[0mimg\u001b[0m \u001b[0;34m=\u001b[0m \u001b[0;34m'data:image/png;base64,'\u001b[0m \u001b[0;34m+\u001b[0m \u001b[0mbinascii\u001b[0m\u001b[0;34m.\u001b[0m\u001b[0mb2a_base64\u001b[0m\u001b[0;34m(\u001b[0m\u001b[0mimg\u001b[0m\u001b[0;34m.\u001b[0m\u001b[0mgetvalue\u001b[0m\u001b[0;34m(\u001b[0m\u001b[0;34m)\u001b[0m\u001b[0;34m,\u001b[0m \u001b[0mnewline\u001b[0m\u001b[0;34m=\u001b[0m\u001b[0;32mFalse\u001b[0m\u001b[0;34m)\u001b[0m\u001b[0;34m.\u001b[0m\u001b[0mdecode\u001b[0m\u001b[0;34m(\u001b[0m\u001b[0;34m\"UTF-8\"\u001b[0m\u001b[0;34m)\u001b[0m\u001b[0;34m\u001b[0m\u001b[0;34m\u001b[0m\u001b[0m\n\u001b[1;32m     30\u001b[0m \u001b[0;34m\u001b[0m\u001b[0m\n\u001b[0;32m---> 31\u001b[0;31m \u001b[0mpd\u001b[0m\u001b[0;34m.\u001b[0m\u001b[0mset_options\u001b[0m\u001b[0;34m(\u001b[0m\u001b[0;34m'display.max_colwidth'\u001b[0m\u001b[0;34m,\u001b[0m \u001b[0;36m1000\u001b[0m\u001b[0;34m)\u001b[0m\u001b[0;34m\u001b[0m\u001b[0;34m\u001b[0m\u001b[0m\n\u001b[0m\u001b[1;32m     32\u001b[0m \u001b[0;34m\u001b[0m\u001b[0m\n\u001b[1;32m     33\u001b[0m html = '''<html>\n",
      "\u001b[0;32m~/Documents/jupyter/venv/lib/python3.8/site-packages/pandas/__init__.py\u001b[0m in \u001b[0;36m__getattr__\u001b[0;34m(name)\u001b[0m\n\u001b[1;32m    261\u001b[0m             \u001b[0;32mreturn\u001b[0m \u001b[0m_SparseArray\u001b[0m\u001b[0;34m\u001b[0m\u001b[0;34m\u001b[0m\u001b[0m\n\u001b[1;32m    262\u001b[0m \u001b[0;34m\u001b[0m\u001b[0m\n\u001b[0;32m--> 263\u001b[0;31m         \u001b[0;32mraise\u001b[0m \u001b[0mAttributeError\u001b[0m\u001b[0;34m(\u001b[0m\u001b[0;34mf\"module 'pandas' has no attribute '{name}'\"\u001b[0m\u001b[0;34m)\u001b[0m\u001b[0;34m\u001b[0m\u001b[0;34m\u001b[0m\u001b[0m\n\u001b[0m\u001b[1;32m    264\u001b[0m \u001b[0;34m\u001b[0m\u001b[0m\n\u001b[1;32m    265\u001b[0m \u001b[0;34m\u001b[0m\u001b[0m\n",
      "\u001b[0;31mAttributeError\u001b[0m: module 'pandas' has no attribute 'set_options'"
     ]
    },
    {
     "data": {
      "image/png": "[encoded data removed]",
      "text/plain": [
       "<Figure size 720x360 with 1 Axes>"
      ]
     },
     "metadata": {},
     "output_type": "display_data"
    }
   ],
   "source": [
    "#Многостраничный ответ\n",
    "import requests\n",
    "import json\n",
    "import pandas as pd\n",
    "import matplotlib.pyplot as plt\n",
    "from io import BytesIO\n",
    "import binascii\n",
    "import pdfkit\n",
    "\n",
    "r = requests.get(\n",
    "    'https://video.ittensive.com/python-advanced/data-107235-2019-12-02.utf.json')\n",
    "\n",
    "data = pd.DataFrame(json.loads(r.content),\n",
    "                    columns=['CourseName', 'CoursesTimetable', 'NameOfPark'])\n",
    "data['NameOfPark'] = data['NameOfPark'].apply(lambda x: x['value'])\n",
    "data.columns = ['Активность', 'Расписание', 'Парк']\n",
    "\n",
    "print('Тайцзицюань',\n",
    "      data[data['Активность'].str.contains('Тайцзицюань')]['Активность'].count())\n",
    "\n",
    "fig = plt.figure(figsize=(10, 5))\n",
    "\n",
    "area = fig.add_subplot(1, 1, 1)\n",
    "parks = data.groupby('Парк').count().sort_values('Активность', ascending=False)\n",
    "parks.head(10)['Активность'].plot.pie(ax=area, label='')\n",
    "\n",
    "img = BytesIO()\n",
    "plt.savefig(img)\n",
    "img = 'data:image/png;base64,' + binascii.b2a_base64(img.getvalue(), newline=False).decode(\"UTF-8\")\n",
    "\n",
    "pd.set_options('display.max_colwidth', 1000)\n",
    "\n",
    "html = '''<html>\n",
    "    <head>\n",
    "        <title>Активности в парках Москвы</title>\n",
    "        <meta charset=\"utf-8\"/>\n",
    "    </head>\n",
    "    <body>\n",
    "        <h1>Активности в парках Москвы</h1>\n",
    "        <img src=\"''' + img + '''\" alt=\"Популярные парки\"/>\n",
    "        ''' + data.to_html(index=False) + '''\n",
    "    </body>\n",
    "</html>'''\n",
    "\n",
    "config = pdfkit.configuration(\n",
    "    wkhtmltopdf='C:/Program FIles/wkhtmltopdf/bin/wkhtmltopdf.exe')\n",
    "options = {\n",
    "    'page-size': 'A4',\n",
    "    'header-right': '[page]'\n",
    "}\n",
    "\n",
    "pdfkit.from_string(html, home_dir + 'parks.pdf',\n",
    "                   configuration=config, options=options)"
   ]
  },
  {
   "cell_type": "code",
   "execution_count": null,
   "metadata": {},
   "outputs": [],
   "source": []
  },
  {
   "cell_type": "code",
   "execution_count": null,
   "metadata": {},
   "outputs": [],
   "source": []
  }
 ],
 "metadata": {
  "kernelspec": {
   "display_name": "Python 3",
   "language": "python",
   "name": "python3"
  },
  "language_info": {
   "codemirror_mode": {
    "name": "ipython",
    "version": 3
   },
   "file_extension": ".py",
   "mimetype": "text/x-python",
   "name": "python",
   "nbconvert_exporter": "python",
   "pygments_lexer": "ipython3",
   "version": "3.8.2"
  }
 },
 "nbformat": 4,
 "nbformat_minor": 4
}
