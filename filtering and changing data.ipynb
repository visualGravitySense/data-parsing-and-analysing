{
 "cells": [
  {
   "cell_type": "code",
   "execution_count": 13,
   "metadata": {},
   "outputs": [
    {
     "name": "stdout",
     "output_type": "stream",
     "text": [
      "                            2017\n",
      "Регион                          \n",
      "Российская Федерация       14.44\n",
      "БЕЛГОРОДСКАЯ ОБЛ.           9.83\n",
      "БРЯНСКАЯ ОБЛ.              12.46\n",
      "ВЛАДИМИРСКАЯ ОБЛ.          12.38\n",
      "ВОРОНЕЖСКАЯ  ОБЛ.          16.19\n",
      "...                          ...\n",
      "САХАЛИНСКАЯ ОБЛ.           13.01\n",
      "ЕВРЕЙСКАЯ А.О.             13.29\n",
      "ЧУКОТСКИЙ А.О.              9.48\n",
      "Дальневосточный фед.округ  13.03\n",
      "РЕСПУБЛИКА КРЫМ             0.00\n",
      "\n",
      "[92 rows x 1 columns]\n"
     ]
    }
   ],
   "source": [
    "import pandas as pd\n",
    "data = pd.read_csv(\"http://digo.ee/internet-2017.csv\", na_values = \"NA\", decimal=\",\", names=[\"Регион\", \"2017\"], skiprows=1, index_col=\"Регион\")\n",
    "data_more10 =  data[data[\"2017\"] > 10]\n",
    "dara_more10_less12 = data[(data[\"2017\"] > 10) & (data[\"2017\"] < 12)]\n",
    "data_null = data[data[\"2017\"].isnull()]\n",
    "data.fillna(0, axis=1, inplace=True)\n",
    "data_notnull = data.loc[data.any(axis=1)]\n",
    "data_filled = data.loc[:, data.all()]\n",
    "data_notnull = data.dropna()\n",
    "#all any\n",
    "print (data)"
   ]
  },
  {
   "cell_type": "code",
   "execution_count": null,
   "metadata": {},
   "outputs": [],
   "source": []
  }
 ],
 "metadata": {
  "kernelspec": {
   "display_name": "Python 3",
   "language": "python",
   "name": "python3"
  },
  "language_info": {
   "codemirror_mode": {
    "name": "ipython",
    "version": 3
   },
   "file_extension": ".py",
   "mimetype": "text/x-python",
   "name": "python",
   "nbconvert_exporter": "python",
   "pygments_lexer": "ipython3",
   "version": "3.8.2"
  }
 },
 "nbformat": 4,
 "nbformat_minor": 4
}
